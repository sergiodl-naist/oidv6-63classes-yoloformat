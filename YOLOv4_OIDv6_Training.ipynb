{
 "cells": [
  {
   "cell_type": "markdown",
   "id": "0944d624",
   "metadata": {},
   "source": [
    "# Training YOLOv4 with Custom Dataset from Open Images Database v6 (OIDv6)\n",
    "\n",
    "This Jupyter Notebook is based on [YOLOv4: A step-by-step guide for Custom Data Preparation with Code](https://techylem.com/yolov4-guide-with-code/) with information of [TRAIN A CUSTOM YOLOv4 OBJECT DETECTOR (Using Google Colab)](https://medium.com/analytics-vidhya/train-a-custom-yolov4-object-detector-using-google-colab-61a659d4868).\n",
    "\n",
    "It also uses the [OIDv6 tool](https://github.com/DmitryRyumin/OIDv6) to download the dataset from Google's [Open Images Dataset](https://storage.googleapis.com/openimages/web/index.html). And its helper scripts are inspired from [OIDv4_ToolKit](https://github.com/ahsan44411/OIDv4_ToolKit)\n",
    "\n",
    "Details about darknet customization options to make them work better on Google's Colab are available at\n",
    "\n",
    "* [Darknet FAQ](https://www.ccoderun.ca/programming/darknet_faq/)\n",
    "* [CFG Parameters in the [net] section](https://github.com/AlexeyAB/darknet/wiki/CFG-Parameters-in-the-%5Bnet%5D-section)\n",
    "\n",
    "Information about Yolov4-tiny training and when to stop training at [AlexeyAB/darknet](https://github.com/AlexeyAB/darknet#how-to-train-tiny-yolo-to-detect-your-custom-objects).\n",
    "\n",
    "## Prepare Custom Dataset\n",
    "\n",
    "### Download your dataset\n",
    "\n",
    "Install oidv6 to download your dataset\n",
    "\n",
    "`$ pip3 install --user oidv6`\n",
    "\n",
    "Create a classes.txt where each line is a class you want to download\n",
    "\n",
    "You can download the classes names from https://storage.googleapis.com/openimages/web/download.html under section \"Annotations and metadata\"; row \"Metadata\" and pressing the button \"Class Names\".\n",
    "\n",
    "Think about how many pictures for training, validation and testing you want.\n",
    "Example: train - 300, validation - 75, test - 10.\n",
    "\n",
    "Where 300 images for training are the 80\\% and 75 images for validation 75 are 20\\% of a dataset of 375 per class.\n",
    "\n",
    "Note that the amount of images per class available on the OID is not the same. Some classes have under 100 images or less.\n",
    "\n",
    "Download your dataset for training with\n",
    "\n",
    "`$ oidv6 downloader en --type_data train --classes ./classes.txt --limit 300 --multi_classes`\n",
    "\n",
    "the dataset for validation with\n",
    "\n",
    "`$ oidv6 downloader en --type_data validation --classes ./classes.txt --limit 75 --multi_classes`\n",
    "\n",
    "and the dataset for testing with\n",
    "\n",
    "`$ oidv6 downloader en --type_data test --classes ./classes.txt --limit 10 --multi_classes`\n",
    "\n",
    "Note that with `--limit NN` you specify how many images you want for each class of the dataset\n",
    "\n",
    "`--multi_classes` will put all pictures on one directory (\"train\", \"validation\", \"test\" according to your `--type_data` selected) and all annotations labels inside one directory named `labels` inside your dataset directory. Without this option, each class' pictures will be downloaded into individual directories in which each one of them will have an individual `labels` directory with all annotations label files.\n",
    "\n",
    "**Some classes might not have any picture in the OID** a red warning will be shown during the download to let you know about these classes without pictures.\n",
    "\n",
    "\n",
    "### Adapt your Dataset to YOLOv4 format\n",
    "\n",
    "The annotation files have this format\n",
    "\n",
    "`label_name x1 y1 x2 y2`\n",
    "\n",
    "Which is not the annotation label format of YOLO which is\n",
    "\n",
    "`label_index box_center_x box_center_y box_width box_heigth`\n",
    "\n",
    "Where\n",
    "\n",
    "**label_index**: is the index of the label inside `classes.txt`\n",
    "\n",
    "**box_center_x**: is the x value* of the center of the bouding box\n",
    "\n",
    "**box_center_y**: is the y value* of the center of the bouding box\n",
    "\n",
    "**box_width**: is the width* of the bouding box\n",
    "\n",
    "**box_heigth**: is the height* of the bouding box\n",
    "\n",
    "And that such coordinates, width and height are represented by a float number between \\[0, 1\\] where 0 is the origin and 1 is the max. width or max. height.\n",
    "\n",
    "Also, the darknet tool will ask for a list of all the file paths of the images for training and validation.\n",
    "\n",
    "All this is solved with the script `prepare_dataset.py`.\n",
    "\n",
    "It will also generate the configuration file `objects.txt` needed for darknet.\n",
    "\n",
    "Run `$ python3 prepare_dataset.py`\n",
    "\n",
    "Now, inside the OIDv6 directory you will have `multidata` directory with your dataset, a copy of `classes.txt` and the configuration file `objects.txt`. \n",
    "\n",
    "Zip the 3 of them up into a `dataset.zip` file, and **upload it to your Google Drive** inside a directory structure like this: **`Training/Data/dataset.zip`**\n",
    "\n",
    "\n",
    "### Mount Google Drive\n",
    "\n",
    "Let's mount your Google Drive into Colab's runtime"
   ]
  },
  {
   "cell_type": "code",
   "execution_count": null,
   "id": "2eb8ac2b",
   "metadata": {},
   "outputs": [],
   "source": [
    "from google.colab import drive\n",
    "drive.mount('/drive')"
   ]
  },
  {
   "cell_type": "markdown",
   "id": "6b7ce8d4",
   "metadata": {},
   "source": [
    "Copy the dataset into the filesystem"
   ]
  },
  {
   "cell_type": "code",
   "execution_count": null,
   "id": "e03bc938",
   "metadata": {},
   "outputs": [],
   "source": [
    "!cp -r '/drive/MyDrive/Training/Data/dataset.zip' /content"
   ]
  },
  {
   "cell_type": "markdown",
   "id": "981e326b",
   "metadata": {},
   "source": [
    "And unzip it"
   ]
  },
  {
   "cell_type": "code",
   "execution_count": null,
   "id": "04e57e74",
   "metadata": {},
   "outputs": [],
   "source": [
    "!unzip '/content/dataset.zip' -d '/content'"
   ]
  },
  {
   "cell_type": "markdown",
   "id": "eb9c605c",
   "metadata": {},
   "source": [
    "## Prepare Darknet Tool\n",
    "\n",
    "### Download darknet source code\n",
    "\n",
    "Clone darknet project. This is a framework/tool to train and customize several YOLO versions."
   ]
  },
  {
   "cell_type": "code",
   "execution_count": null,
   "id": "dcaaefc2",
   "metadata": {},
   "outputs": [],
   "source": [
    "!git clone https://github.com/AlexeyAB/darknet"
   ]
  },
  {
   "cell_type": "markdown",
   "id": "41a9b425",
   "metadata": {},
   "source": [
    "Modify makefile to work with the GPU and OpenCV"
   ]
  },
  {
   "cell_type": "code",
   "execution_count": null,
   "id": "2b50590a",
   "metadata": {},
   "outputs": [],
   "source": [
    "%cd darknet\n",
    "!sed -i 's/OPENCV=0/OPENCV=1/' Makefile\n",
    "!sed -i 's/GPU=0/GPU=1/' Makefile\n",
    "!sed -i 's/CUDNN=0/CUDNN=1/' Makefile\n",
    "!sed -i 's/CUDNN_HALF=0/CUDNN_HALF=1/' Makefile"
   ]
  },
  {
   "cell_type": "markdown",
   "id": "e2865418",
   "metadata": {},
   "source": [
    "Check if CUDA Compiler is installed"
   ]
  },
  {
   "cell_type": "code",
   "execution_count": null,
   "id": "4df58c02",
   "metadata": {},
   "outputs": [],
   "source": [
    "!/usr/local/cuda/bin/nvcc --version"
   ]
  },
  {
   "cell_type": "markdown",
   "id": "cd9e10b6",
   "metadata": {},
   "source": [
    "Compile darknet"
   ]
  },
  {
   "cell_type": "code",
   "execution_count": null,
   "id": "b192dcfa",
   "metadata": {},
   "outputs": [],
   "source": [
    "!make"
   ]
  },
  {
   "cell_type": "markdown",
   "id": "db183de9",
   "metadata": {},
   "source": [
    "### (Optional) Test darknet\n",
    "\n",
    "Download pre-trained YOLOv4 weights"
   ]
  },
  {
   "cell_type": "code",
   "execution_count": null,
   "id": "b9c32cb9",
   "metadata": {},
   "outputs": [],
   "source": [
    "!wget https://github.com/AlexeyAB/darknet/releases/download/darknet_yolo_v3_optimal/yolov4.weights"
   ]
  },
  {
   "cell_type": "markdown",
   "id": "f87a5d43",
   "metadata": {},
   "source": [
    "Defining function to show output images"
   ]
  },
  {
   "cell_type": "code",
   "execution_count": null,
   "id": "bbce7e3b",
   "metadata": {},
   "outputs": [],
   "source": [
    "import cv2\n",
    "import matplotlib.pyplot as plt\n",
    "%matplotlib inline\n",
    "def imShow(path):\n",
    "  image = cv2.imread(path)\n",
    "  height, width = image.shape[:2]\n",
    "  resized_image = cv2.resize(image,(3*width, 3*height), interpolation = cv2.INTER_CUBIC)\n",
    "\n",
    "  fig = plt.gcf()\n",
    "  fig.set_size_inches(18, 10)\n",
    "  \n",
    "  plt.axis(\"off\")\n",
    "  plt.imshow(cv2.cvtColor(resized_image, cv2.COLOR_BGR2RGB))\n",
    "  plt.show()"
   ]
  },
  {
   "cell_type": "markdown",
   "id": "2e788d5c",
   "metadata": {},
   "source": [
    "Run the Object Recognition Model on test image."
   ]
  },
  {
   "cell_type": "code",
   "execution_count": null,
   "id": "964888bb",
   "metadata": {},
   "outputs": [],
   "source": [
    "!./darknet detector test cfg/coco.data cfg/yolov4.cfg yolov4.weights data/person.jpg\n",
    "imShow('predictions.jpg')"
   ]
  },
  {
   "cell_type": "markdown",
   "id": "49c5de25",
   "metadata": {},
   "source": [
    "### Train with Custom Data\n",
    "\n",
    "Copy and customize `yolov4-tiny-custom.cfg`"
   ]
  },
  {
   "cell_type": "code",
   "execution_count": null,
   "id": "ce9bfd42",
   "metadata": {},
   "outputs": [],
   "source": [
    "!cp -r '/content/darknet/cfg/yolov4-tiny-custom.cfg' '/content/darknet/cfg/yolov4-tiny-obj.cfg'"
   ]
  },
  {
   "cell_type": "markdown",
   "id": "1d381de0",
   "metadata": {},
   "source": [
    "You can run the script `customize_yolov4_tiny.py` to automatically adapt `yolov4-tiny-obj.cfg` to the current dataset.\n",
    "\n",
    "Changes that it will make:\n",
    "\n",
    "```\n",
    "[net]\n",
    "max_batches = (# of Classes * 2000)\n",
    "steps = (80% of max_batches), (90% of max_batches)\n",
    "\n",
    "[convolutional]\n",
    "filters = ( (# of Classes + 5) * 3 )\n",
    "[yolo]\n",
    "classes = # of Classes\n",
    "\n",
    "[convolutional]\n",
    "filters = ( (# of Classes + 5) * 3 )\n",
    "[yolo]\n",
    "classes = # of Classes\n",
    "\n",
    "[convolutional]\n",
    "filters = ( (# of Classes + 5) * 3 )\n",
    "[yolo]\n",
    "classes = # of Classes\n",
    "```\n",
    "\n",
    "Download the pre-trained weights"
   ]
  },
  {
   "cell_type": "code",
   "execution_count": null,
   "id": "8f884c6e",
   "metadata": {},
   "outputs": [],
   "source": [
    "!wget https://github.com/AlexeyAB/darknet/releases/download/darknet_yolo_v4_pre/yolov4-tiny.conv.29"
   ]
  },
  {
   "cell_type": "markdown",
   "id": "7f29eed1",
   "metadata": {},
   "source": [
    "Download dataset and configuration"
   ]
  },
  {
   "cell_type": "code",
   "execution_count": null,
   "id": "050bb761",
   "metadata": {},
   "outputs": [],
   "source": [
    "!git clone --depth 1 https://github.com/sergiodl-naist/yolov4-oidv6-test"
   ]
  },
  {
   "cell_type": "markdown",
   "id": "ebb5ce19",
   "metadata": {},
   "source": [
    "Begin training"
   ]
  },
  {
   "cell_type": "code",
   "execution_count": null,
   "id": "c7e2328a",
   "metadata": {},
   "outputs": [],
   "source": [
    "# %%capture\n",
    "!./darknet detector train \\\n",
    "  yolov4-oidv6-test/object.data \\\n",
    "  yolov4-oidv6-test/yolov4-custom.cfg \\\n",
    "  yolov4.conv.137 \\\n",
    "  -dont_show \\\n",
    "  -map"
   ]
  },
  {
   "cell_type": "markdown",
   "id": "3ee8e5d5",
   "metadata": {},
   "source": [
    "Or restart training"
   ]
  },
  {
   "cell_type": "code",
   "execution_count": null,
   "id": "e21d1a6e",
   "metadata": {},
   "outputs": [],
   "source": [
    "!./darknet detector train \\\n",
    "  yolov4-oidv6-test/obj.data \\\n",
    "  yolov4-oidv6-test/yolov4-custom.cfg \\\n",
    "  /drive/MyDrive/TrainingBackup/yolov4-obj_last.weights \\\n",
    "  -dont_show"
   ]
  }
 ],
 "metadata": {
  "kernelspec": {
   "display_name": "Python 3",
   "language": "python",
   "name": "python3"
  },
  "language_info": {
   "codemirror_mode": {
    "name": "ipython",
    "version": 3
   },
   "file_extension": ".py",
   "mimetype": "text/x-python",
   "name": "python",
   "nbconvert_exporter": "python",
   "pygments_lexer": "ipython3",
   "version": "3.8.10"
  }
 },
 "nbformat": 4,
 "nbformat_minor": 5
}
